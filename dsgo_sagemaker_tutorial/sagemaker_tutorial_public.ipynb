{
 "cells": [
  {
   "cell_type": "markdown",
   "metadata": {},
   "source": [
    "# SageMaker Tutorial (DSGO)"
   ]
  },
  {
   "cell_type": "code",
   "execution_count": null,
   "metadata": {},
   "outputs": [],
   "source": [
    "import sagemaker\n",
    "from boto3 import Session as BotoSession\n",
    "from time import sleep\n",
    "\n",
    "# create sagemaker session\n",
    "boto_session = BotoSession(profile_name='default', \n",
    "                           region_name='us-east-1')\n",
    "sagemaker_session = sagemaker.Session(boto_session=boto_session)\n",
    "sagemaker_role = '' # YOUR SAGEMAKER ROLE HERE"
   ]
  },
  {
   "cell_type": "markdown",
   "metadata": {},
   "source": [
    "## Training - Cloud"
   ]
  },
  {
   "cell_type": "code",
   "execution_count": null,
   "metadata": {},
   "outputs": [],
   "source": [
    "#  upload training data to s3\n",
    "train_dir = 'data/train'\n",
    "project_name = 'sagemaker-dsgo-tutorial'\n",
    "train_input = sagemaker_session.upload_data(\n",
    "    train_dir, key_prefix=\"{}/{}\".format(project_name, train_dir))\n",
    "print('location in s3: {}'.format(train_input))"
   ]
  },
  {
   "cell_type": "code",
   "execution_count": null,
   "metadata": {},
   "outputs": [],
   "source": [
    "from sagemaker.sklearn.estimator import SKLearn\n",
    "\n",
    "# config model training\n",
    "cloud_model = SKLearn(\n",
    "    entry_point='sagemaker_entry_point.py',\n",
    "    source_dir='.',\n",
    "    train_instance_type='ml.c4.xlarge',\n",
    "    train_instance_count=1,\n",
    "    role=sagemaker_role\n",
    ")"
   ]
  },
  {
   "cell_type": "code",
   "execution_count": null,
   "metadata": {},
   "outputs": [],
   "source": [
    "# run model training (data has to be from s3)\n",
    "cloud_model.fit({'train': train_input})"
   ]
  },
  {
   "cell_type": "markdown",
   "metadata": {},
   "source": [
    "## Training - Local"
   ]
  },
  {
   "cell_type": "code",
   "execution_count": null,
   "metadata": {},
   "outputs": [],
   "source": [
    "from sagemaker.sklearn.estimator import SKLearn\n",
    "\n",
    "# config model training\n",
    "local_model = SKLearn(\n",
    "    entry_point='sagemaker_entry_point.py',\n",
    "    source_dir='.',\n",
    "    train_instance_type='local',\n",
    "    train_instance_count=1,\n",
    "    role=sagemaker_role\n",
    ")"
   ]
  },
  {
   "cell_type": "code",
   "execution_count": null,
   "metadata": {},
   "outputs": [],
   "source": [
    "# run model training (data can be from disk or s3)\n",
    "local_model.fit({'train': 'file://{}'.format(train_dir)})"
   ]
  },
  {
   "cell_type": "markdown",
   "metadata": {},
   "source": [
    "## Deploy - Cloud"
   ]
  },
  {
   "cell_type": "code",
   "execution_count": null,
   "metadata": {},
   "outputs": [],
   "source": [
    "# from model trained on cloud via sagemaker\n",
    "cloud_predictor = cloud_model.deploy(initial_instance_count=1, \n",
    "                                     instance_type=\"ml.m4.xlarge\")"
   ]
  },
  {
   "cell_type": "code",
   "execution_count": null,
   "metadata": {},
   "outputs": [],
   "source": [
    "from sagemaker.predictor import json_serializer\n",
    "\n",
    "# define input format as JSON\n",
    "cloud_predictor.serializer = json_serializer\n",
    "cloud_predictor.content_type = 'application/json'"
   ]
  },
  {
   "cell_type": "markdown",
   "metadata": {},
   "source": [
    "## Predict - Cloud"
   ]
  },
  {
   "cell_type": "code",
   "execution_count": null,
   "metadata": {},
   "outputs": [],
   "source": [
    "book1 = 'tale of two cities'\n",
    "book2 = 'tale by two cities'\n",
    "result = cloud_predictor.predict({'arg1': book1, 'arg2': book2})\n",
    "\n",
    "print(\"\\nRESULT --> {} VS {}: {}\".format(book1, book2, result))"
   ]
  },
  {
   "cell_type": "code",
   "execution_count": null,
   "metadata": {},
   "outputs": [],
   "source": [
    "book1 = 'tale of two cities'\n",
    "book2 = 'tale of two towns'\n",
    "result = cloud_predictor.predict({'arg1': book1, 'arg2': book2})\n",
    "\n",
    "print(\"\\nRESULT --> {} VS {}: {}\".format(book1, book2, result))"
   ]
  },
  {
   "cell_type": "code",
   "execution_count": null,
   "metadata": {},
   "outputs": [],
   "source": [
    "# cleanup\n",
    "cloud_predictor.delete_model()\n",
    "cloud_model.delete_endpoint()"
   ]
  },
  {
   "cell_type": "markdown",
   "metadata": {},
   "source": [
    "## Deploy - Cloud (trained outside Sagemaker)"
   ]
  },
  {
   "cell_type": "code",
   "execution_count": null,
   "metadata": {},
   "outputs": [],
   "source": [
    "#  upload model data to s3\n",
    "\n",
    "trained_model_dir = 'data/fitted_model'\n",
    "project_name = 'sagemaker-dsgo-tutorial'\n",
    "trained_model_input = sagemaker_session.upload_data(\n",
    "    trained_model_dir, key_prefix=\"{}/{}\".format(project_name, \n",
    "                                                 trained_model_dir))\n",
    "print('location in s3: {}'.format(trained_model_input))"
   ]
  },
  {
   "cell_type": "code",
   "execution_count": null,
   "metadata": {},
   "outputs": [],
   "source": [
    "from sagemaker.sklearn import SKLearnModel\n",
    "\n",
    "# from model trained some other way (data has to be from s3)\n",
    "cloud_manual_model = SKLearnModel(\n",
    "    entry_point='sagemaker_entry_point.py',\n",
    "    source_dir='.',\n",
    "    model_data = trained_model_input,\n",
    "    role=sagemaker_role\n",
    ")"
   ]
  },
  {
   "cell_type": "code",
   "execution_count": null,
   "metadata": {},
   "outputs": [],
   "source": [
    "cloud_manual_predictor = cloud_model.deploy(initial_instance_count=1,\n",
    "                                            instance_type=\"ml.m4.xlarge\")"
   ]
  },
  {
   "cell_type": "code",
   "execution_count": null,
   "metadata": {},
   "outputs": [],
   "source": [
    "from sagemaker.predictor import json_serializer\n",
    "\n",
    "# define input format as JSON\n",
    "cloud_manual_predictor.serializer = json_serializer\n",
    "cloud_manual_predictor.content_type = 'application/json'"
   ]
  },
  {
   "cell_type": "markdown",
   "metadata": {},
   "source": [
    "## Predict - Cloud (trained outside Sagemaker)"
   ]
  },
  {
   "cell_type": "code",
   "execution_count": null,
   "metadata": {},
   "outputs": [],
   "source": [
    "arg1 = 'bluevine'\n",
    "arg2 = 'blue vine'\n",
    "\n",
    "result = cloud_manual_predictor.predict({'arg1': arg1, 'arg2': arg2})\n",
    "sleep(1)\n",
    "print(\"\\nRESULT --> {} VS {}: {}\".format(arg1, arg2, result))"
   ]
  },
  {
   "cell_type": "code",
   "execution_count": null,
   "metadata": {},
   "outputs": [],
   "source": [
    "# cleanup\n",
    "cloud_manual_predictor.delete_model()\n",
    "cloud_manual_model.delete_endpoint()"
   ]
  },
  {
   "cell_type": "markdown",
   "metadata": {},
   "source": [
    "## Deploy - Local"
   ]
  },
  {
   "cell_type": "code",
   "execution_count": null,
   "metadata": {},
   "outputs": [],
   "source": [
    "# from model trained locally via sagemaker\n",
    "\n",
    "local_predictor = local_model.deploy(initial_instance_count=1, \n",
    "                                     instance_type='local')"
   ]
  },
  {
   "cell_type": "code",
   "execution_count": null,
   "metadata": {},
   "outputs": [],
   "source": [
    "from sagemaker.predictor import json_serializer\n",
    "\n",
    "# define input format as JSON\n",
    "local_predictor.serializer = json_serializer\n",
    "local_predictor.content_type = 'application/json'"
   ]
  },
  {
   "cell_type": "markdown",
   "metadata": {},
   "source": [
    "## Predict - Local"
   ]
  },
  {
   "cell_type": "code",
   "execution_count": null,
   "metadata": {},
   "outputs": [],
   "source": [
    "arg1 = 'bluevine'\n",
    "arg2 = 'blue vine'\n",
    "\n",
    "result = local_predictor.predict({'arg1': arg1, 'arg2': arg2})\n",
    "sleep(1)\n",
    "print(\"\\nRESULT --> {} VS {}: {}\".format(arg1, arg2, result))"
   ]
  },
  {
   "cell_type": "code",
   "execution_count": null,
   "metadata": {},
   "outputs": [],
   "source": [
    "# cleanup\n",
    "local_predictor.delete_model()\n",
    "local_model.delete_endpoint()"
   ]
  },
  {
   "cell_type": "markdown",
   "metadata": {},
   "source": [
    "## Deploy - Local (trained outside sagemaker)"
   ]
  },
  {
   "cell_type": "code",
   "execution_count": null,
   "metadata": {},
   "outputs": [],
   "source": [
    "from sagemaker.sklearn import SKLearnModel\n",
    "\n",
    "# from model trained some other way (data can be from disk or s3)\n",
    "local_manual_model = SKLearnModel(\n",
    "    entry_point='sagemaker_entry_point.py',\n",
    "    source_dir='.',\n",
    "    model_data='file://data/fitted_model/name_comparison_model.joblib',\n",
    "    role=sagemaker_role\n",
    ")"
   ]
  },
  {
   "cell_type": "code",
   "execution_count": null,
   "metadata": {},
   "outputs": [],
   "source": [
    "local_manual_predictor = local_manual_model.deploy(\n",
    "    initial_instance_count=1, instance_type='local')"
   ]
  },
  {
   "cell_type": "code",
   "execution_count": null,
   "metadata": {},
   "outputs": [],
   "source": [
    "from sagemaker.predictor import json_serializer\n",
    "\n",
    "# define input format as JSON\n",
    "local_manual_predictor.serializer = json_serializer\n",
    "local_manual_predictor.content_type = 'application/json'"
   ]
  },
  {
   "cell_type": "markdown",
   "metadata": {},
   "source": [
    "## Predict - Local (trained outside sagemaker)"
   ]
  },
  {
   "cell_type": "code",
   "execution_count": null,
   "metadata": {},
   "outputs": [],
   "source": [
    "arg1 = 'bluevine'\n",
    "arg2 = 'blue vine'\n",
    "\n",
    "result = local_manual_predictor.predict({'arg1': arg1, 'arg2': arg2})\n",
    "sleep(1)\n",
    "print(\"\\nRESULT --> {} VS {}: {}\".format(arg1, arg2, result))"
   ]
  },
  {
   "cell_type": "code",
   "execution_count": null,
   "metadata": {},
   "outputs": [],
   "source": [
    "# cleanup\n",
    "local_manual_model.delete_model()\n",
    "local_manual_predictor.delete_endpoint()"
   ]
  },
  {
   "cell_type": "code",
   "execution_count": null,
   "metadata": {},
   "outputs": [],
   "source": []
  }
 ],
 "metadata": {
  "kernelspec": {
   "display_name": "Python 3",
   "language": "python",
   "name": "python3"
  },
  "language_info": {
   "codemirror_mode": {
    "name": "ipython",
    "version": 3
   },
   "file_extension": ".py",
   "mimetype": "text/x-python",
   "name": "python",
   "nbconvert_exporter": "python",
   "pygments_lexer": "ipython3",
   "version": "3.6.0"
  }
 },
 "nbformat": 4,
 "nbformat_minor": 2
}
